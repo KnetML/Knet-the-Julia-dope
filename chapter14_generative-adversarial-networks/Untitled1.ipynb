{
 "cells": [
  {
   "cell_type": "code",
   "execution_count": 62,
   "metadata": {
    "collapsed": true
   },
   "outputs": [],
   "source": [
    "from __future__ import print_function\n",
    "import matplotlib as mpl\n",
    "from matplotlib import pyplot as plt\n",
    "import mxnet as mx\n",
    "from mxnet import gluon, autograd, nd\n",
    "from mxnet.gluon import nn\n",
    "import numpy as np\n",
    "\n",
    "ctx = mx.cpu()"
   ]
  },
  {
   "cell_type": "code",
   "execution_count": 63,
   "metadata": {
    "collapsed": true
   },
   "outputs": [],
   "source": [
    "X = nd.random_normal(shape=(1000, 2))\n",
    "A = nd.array([[1, 2], [-0.1, 0.5]])\n",
    "b = nd.array([1, 2])\n",
    "X = nd.dot(X, A) + b\n",
    "Y = nd.ones(shape=(1000,1))\n",
    "\n",
    "# and stick them into an iterator\n",
    "batch_size = 4\n",
    "train_data = mx.io.NDArrayIter(X, Y, batch_size, shuffle=True)"
   ]
  },
  {
   "cell_type": "code",
   "execution_count": 64,
   "metadata": {},
   "outputs": [
    {
     "data": {
      "image/png": "[encoded data removed]",
      "text/plain": [
       "<matplotlib.figure.Figure at 0x7f6c1be54190>"
      ]
     },
     "metadata": {},
     "output_type": "display_data"
    },
    {
     "name": "stdout",
     "output_type": "stream",
     "text": [
      "The covariance matrix is\n",
      "\n",
      "[[ 5.          0.89999998]\n",
      " [ 0.89999998  0.25999999]]\n",
      "<NDArray 2x2 @cpu(0)>\n"
     ]
    }
   ],
   "source": [
    "plt.scatter(X[:, 0].asnumpy(),X[:,1].asnumpy())\n",
    "plt.show()\n",
    "print(\"The covariance matrix is\")\n",
    "print(nd.dot(A, A.T))"
   ]
  },
  {
   "cell_type": "code",
   "execution_count": 128,
   "metadata": {
    "collapsed": true
   },
   "outputs": [],
   "source": [
    "# build the generator\n",
    "netG = nn.Sequential()\n",
    "with netG.name_scope():\n",
    "    netG.add(nn.Dense(2))\n",
    "\n",
    "# build the discriminator (with 5 and 3 hidden units respectively)\n",
    "netD = nn.Sequential()\n",
    "with netD.name_scope():\n",
    "    netD.add(nn.Dense(5, activation='tanh'))\n",
    "    netD.add(nn.Dense(3 ,activation='tanh'))\n",
    "    netD.add(nn.Dense(2))\n",
    "\n",
    "# loss\n",
    "loss = gluon.loss.SoftmaxCrossEntropyLoss()\n",
    "\n",
    "# initialize the generator and the discriminator\n",
    "netG.initialize(mx.init.Normal(0.02), ctx=ctx)\n",
    "netD.initialize(mx.init.Normal(0.02), ctx=ctx)\n",
    "\n",
    "# trainer for the generator and the discriminator\n",
    "trainerG = gluon.Trainer(netG.collect_params(), 'adam', {'learning_rate': 0.01})\n",
    "trainerD = gluon.Trainer(netD.collect_params(), 'adam', {'learning_rate': 0.05})"
   ]
  },
  {
   "cell_type": "code",
   "execution_count": 130,
   "metadata": {
    "collapsed": true
   },
   "outputs": [],
   "source": [
    "real_label = mx.nd.ones((batch_size,), ctx=ctx)\n",
    "fake_label = mx.nd.zeros((batch_size,), ctx=ctx)\n",
    "metric = mx.metric.Accuracy()\n",
    "\n",
    "# set up logging\n",
    "from datetime import datetime\n",
    "import os\n",
    "import time"
   ]
  },
  {
   "cell_type": "code",
   "execution_count": 165,
   "metadata": {},
   "outputs": [
    {
     "name": "stdout",
     "output_type": "stream",
     "text": [
      "\n",
      "[[-0.01940775  0.00709945]\n",
      " [ 0.00757575 -0.02821817]\n",
      " [ 0.03192177  0.00624733]\n",
      " [-0.00315145 -0.00416284]]\n",
      "<NDArray 4x2 @cpu(0)>\n",
      "\n",
      "[[ 1.31268287 -1.286448  ]\n",
      " [ 1.31640053 -1.29030395]\n",
      " [ 1.29499197 -1.26815796]\n",
      " [ 1.31165218 -1.28537774]]\n",
      "<NDArray 4x2 @cpu(0)>\n"
     ]
    }
   ],
   "source": [
    "for i, batch in enumerate(train_data):\n",
    "    ############################\n",
    "    # (1) Update D network: maximize log(D(x)) + log(1 - D(G(z)))\n",
    "    ###########################\n",
    "    # train with real_t\n",
    "    data = batch.data[0].as_in_context(ctx)\n",
    "    noise = nd.random_normal(shape=(batch_size, 2), ctx=ctx)\n",
    "    with autograd.record():\n",
    "        real_output = netD(data)\n",
    "        errD_real = loss(real_output, real_label)\n",
    "\n",
    "        fake = netG(noise)\n",
    "        fake_output = netD(fake.detach())\n",
    "        errD_fake = loss(fake_output, fake_label)\n",
    "        errD = errD_real + errD_fake\n",
    "        errD.backward()\n",
    "\n",
    "    trainerD.step(batch_size)\n",
    "    \n",
    "    metric.update([real_label,], [real_output,])\n",
    "    metric.update([fake_label,], [fake_output,])\n",
    "\n",
    "    ############################\n",
    "    # (2) Update G network: maximize log(D(G(z)))\n",
    "    ###########################\n",
    "    with autograd.record():\n",
    "        print(fake)\n",
    "        output = netD(fake)\n",
    "        print(output)\n",
    "        errG = loss(output, real_label)\n",
    "        errG.backward()\n",
    "\n",
    "    \n",
    "    \n",
    "    break"
   ]
  },
  {
   "cell_type": "code",
   "execution_count": null,
   "metadata": {
    "collapsed": true
   },
   "outputs": [],
   "source": []
  },
  {
   "cell_type": "code",
   "execution_count": null,
   "metadata": {
    "collapsed": true
   },
   "outputs": [],
   "source": []
  },
  {
   "cell_type": "code",
   "execution_count": null,
   "metadata": {
    "collapsed": true
   },
   "outputs": [],
   "source": []
  }
 ],
 "metadata": {
  "kernelspec": {
   "display_name": "Python 2",
   "language": "python",
   "name": "python2"
  },
  "language_info": {
   "codemirror_mode": {
    "name": "ipython",
    "version": 2
   },
   "file_extension": ".py",
   "mimetype": "text/x-python",
   "name": "python",
   "nbconvert_exporter": "python",
   "pygments_lexer": "ipython2",
   "version": "2.7.6"
  }
 },
 "nbformat": 4,
 "nbformat_minor": 2
}
