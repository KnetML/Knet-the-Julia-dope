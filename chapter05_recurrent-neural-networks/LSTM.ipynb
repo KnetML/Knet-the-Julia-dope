{
 "cells": [
  {
   "cell_type": "markdown",
   "metadata": {},
   "source": [
    "<h1 align=\"center\">Long Short-Term Memory (LSTM) Networks </h1> "
   ]
  },
  {
   "cell_type": "markdown",
   "metadata": {},
   "source": [
    "### The Problem of Long-Term Dependencies\n",
    "\n",
    "One of the appeals of RNNs is the idea that they might be able to connect previous information to the present task, such as using previous video frames might inform the understanding of the present frame. If RNNs could do this, they’d be extremely useful. But can they? It depends.\n",
    "\n",
    "Sometimes, we only need to look at recent information to perform the present task. For example, consider a language model trying to predict the next word based on the previous ones. If we are trying to predict the last word in “the clouds are in the sky,” we don’t need any further context – it’s pretty obvious the next word is going to be sky. In such cases, where the gap between the relevant information and the place that it’s needed is small, RNNs can learn to use the past information.\n",
    "\n",
    "But there are also cases where we need more context. Consider trying to predict the last word in the text “I grew up in France… I speak fluent French.” Recent information suggests that the next word is probably the name of a language, but if we want to narrow down which language, we need the context of France, from further back. It’s entirely possible for the gap between the relevant information and the point where it is needed to become very large. Unfortunately, as that gap grows, RNNs become unable to learn to connect the information.\n",
    "\n",
    "![title](../images/long_term_dependencies.jpg)"
   ]
  },
  {
   "cell_type": "markdown",
   "metadata": {},
   "source": [
    "### LSTM Networks\n",
    "\n",
    "LSTM are a special kind of RNN, capable of learning long-term dependencies. LSTMs are explicitly designed to avoid the long-term dependency problem. Remembering information for long periods of time is practically their default behavior, not something they struggle to learn! All recurrent neural networks have the form of a chain of repeating modules of neural network. In standard RNNs, this repeating module will have a very simple structure, such as a single tanh layer (figure below, left):"
   ]
  },
  {
   "cell_type": "code",
   "execution_count": 4,
   "metadata": {},
   "outputs": [
    {
     "data": {
      "text/plain": [
       "rnn_tanh_layer (generic function with 1 method)"
      ]
     },
     "execution_count": 4,
     "metadata": {},
     "output_type": "execute_result"
    }
   ],
   "source": [
    "function mlp1_rnn(param, hₜ₋, xₜ)\n",
    "    input  = hcat(hₜ₋, xₜ)\n",
    "    hₜ = tanh(input * param[1] .+ param[2])\n",
    "    return (hₜ, xₜ)\n",
    "end"
   ]
  },
  {
   "cell_type": "markdown",
   "metadata": {},
   "source": [
    "LSTMs also have this chain like structure, but the repeating module has a different structure. Instead of having a single neural network layer, there are four, interacting in a very special way (figure below, right):"
   ]
  },
  {
   "cell_type": "markdown",
   "metadata": {},
   "source": [
    "![title](../images/RNN_vs_LSTM.jpg)\n",
    "\n",
    "In the above diagram, each line carries an entire vector, from the output of one node to the inputs of others. The pink circles represent pointwise operations, like vector addition, while the yellow boxes are learned neural network layers. Lines merging denote concatenation, while a line forking denote its content being copied and the copies going to different locations."
   ]
  },
  {
   "cell_type": "markdown",
   "metadata": {},
   "source": [
    "### The Core Idea Behind LSTMs\n",
    "\n",
    "The key to LSTMs is the cell state $C$, the horizontal line running through the top of the diagram: entering from the top left as $C_{t-1}$ and exiting from the top right as $C_t$.\n",
    "\n",
    "The cell state is kind of like a conveyor belt. It runs straight down the entire chain, with only some minor linear interactions (vector addition and multiplication). It’s very easy for information to just flow along it unchanged. The LSTM does have the ability to remove or add information to the cell state, carefully regulated by structures called gates. Gates are a way to optionally let information through. They are composed out of a sigmoid neural net layer and a pointwise multiplication operation (first, second, and fourth learned layers). The sigmoid layer outputs numbers between zero and one, describing how much of each component should be let through. A value of zero means “let nothing through,” while a value of one means “let everything through!”\n",
    "\n",
    "An LSTM has three of these gates, to protect and control the cell state."
   ]
  },
  {
   "cell_type": "markdown",
   "metadata": {},
   "source": [
    "### Step-by-Step LSTM Walk Through\n",
    "\n",
    "The first step in our LSTM is to decide what information we’re going to throw away from the cell state. This decision is made by a sigmoid layer called the “forget gate layer” and it's denoted as $f$. It looks at $h_{t-1}$ and $x_t$, and outputs a number between 0 and 1 for each number in the cell state $C_{t−1}$. A 1 represents “completely keep this” while a 0 represents “completely get rid of this.” Formally:\n",
    "\n",
    "\\begin{equation}\n",
    "f_t = \\sigma\\big(W_f\\, [h_{t-1}\\,\\,x_t] + b_f\\big)\n",
    "\\end{equation}\n",
    "\n",
    "\n",
    "Let’s go back to our example of a language model trying to predict the next word based on all the previous ones. In such a problem, the cell state might include the gender of the present subject, so that the correct pronouns can be used. When we see a new subject, we want to forget the gender of the old subject.\n",
    "\n",
    "The next step is to decide what new information we’re going to store in the cell state. This has two parts. First, a sigmoid layer called the “input gate layer” (denoted by $i$) decides which values we’ll update. Next, a tanh layer creates a vector of new candidate values (denoted by $C$), $\\tilde{C}_t$, that could be added to the state. In the next step, we’ll combine these two to create an update to the state. Formally:\n",
    "\n",
    "\\begin{equation}\n",
    "i_t = \\sigma\\big(W_i\\, [h_{t-1}\\,\\,x_t] + b_i\\big)\\hspace{.7cm}\n",
    "\\end{equation}\n",
    "\\begin{equation}\n",
    "\\tilde{C}_t = \\tanh\\big(W_C\\, [h_{t-1}\\,\\,x_t] + b_C\\big)\n",
    "\\end{equation}\n",
    "\n",
    "\n",
    "In the example of our language model, we’d want to add the gender of the new subject to the cell state, to replace the old one we’re forgetting.\n",
    "\n",
    "It’s now time to update the old cell state, $C_{t−1}$, into the new cell state $C_t$. The previous steps already decided what to do, we just need to actually do it. We multiply the old state by $f_t$, forgetting the things we decided to forget earlier. Then we add $i_t∗\\tilde{C}_t$. This is the new candidate values, scaled by how much we decided to update each state value. Formally:\n",
    "\n",
    "\\begin{equation}\n",
    "C_t = f_t*C_{t-1} + i_t*\\tilde{C}\n",
    "\\end{equation}\n",
    "\n",
    "\n",
    "In the case of the language model, this is where we’d actually drop the information about the old subject’s gender and add the new information, as we decided in the previous steps.\n",
    "\n",
    "Finally, we need to decide what we’re going to output. This output will be based on our cell state, but will be a filtered version. First, we run a sigmoid layer which decides what parts of the cell state we’re going to output and denote the output by $o$. Then, we put the cell state through tanh (to push the values to be between −1 and 1) and multiply it by the output of the sigmoid gate, so that we only output the parts we decided to. Formally:\n",
    "\n",
    "\\begin{equation}\n",
    "o_t = \\sigma\\big(W_o\\, [h_{t-1}\\,\\,x_t] + b_o]\\big)\n",
    "\\end{equation}\n",
    "\\begin{equation}\n",
    "h_t = o_t * \\tanh C_t\\hspace{1.8cm}\n",
    "\\end{equation}\n",
    "\n",
    "\n",
    "For the language model example, since it just saw a subject, it might want to output information relevant to a verb, in case that’s what is coming next. For example, it might output whether the subject is singular or plural, so that we know what form a verb should be conjugated into if that’s what follows next."
   ]
  },
  {
   "cell_type": "code",
   "execution_count": null,
   "metadata": {
    "collapsed": true
   },
   "outputs": [],
   "source": []
  },
  {
   "cell_type": "code",
   "execution_count": null,
   "metadata": {
    "collapsed": true
   },
   "outputs": [],
   "source": []
  },
  {
   "cell_type": "code",
   "execution_count": null,
   "metadata": {
    "collapsed": true
   },
   "outputs": [],
   "source": []
  },
  {
   "cell_type": "code",
   "execution_count": null,
   "metadata": {
    "collapsed": true
   },
   "outputs": [],
   "source": []
  },
  {
   "cell_type": "markdown",
   "metadata": {},
   "source": [
    "In summary, we have the following equations for a single-layer LSTM network:"
   ]
  },
  {
   "cell_type": "markdown",
   "metadata": {
    "collapsed": true
   },
   "source": [
    "\\begin{equation}\n",
    "\\begin{aligned}\n",
    "f_t &= \\sigma\\big(W_f\\, [h_{t-1}\\,\\,x_t] + b_f\\big) & (1) &\\, \\text{Forget gate} \\\\\n",
    "i_t &= \\sigma\\big(W_i\\, [h_{t-1}\\,\\,x_t] + b_i\\big) & (2) &\\, \\text{Input gate} \\\\\n",
    "\\tilde{C}_t &= \\tanh\\big(W_C\\, [h_{t-1}\\,\\,x_t] + b_C\\big) & (3) &\\, \\text{Cell candidate} \\\\\n",
    "C_t &= f_t*C_{t-1} + i_t*\\tilde{C} & (4) &\\, \\text{New cell}\\\\\n",
    "o_t &= \\sigma\\big(W_o\\, [h_{t-1}\\,\\,x_t] + b_o]\\big) & (5) &\\, \\text{Output gate} \\\\\n",
    "h_t &= o_t * \\tanh C_t & (6) &\\, \\text{New output} \n",
    "\\end{aligned}\n",
    "\\end{equation}"
   ]
  },
  {
   "cell_type": "markdown",
   "metadata": {
    "collapsed": true
   },
   "source": [
    "Let us consider the size of all the variables involved. The size of the input vector $x$ is denoted as $I$, while the size of $h$ and $C$ are both denoted as $H$, therefore the concatenated input $[h_{t-1}\\,\\,x_t]$ has a size $H+I$. In practice, the weight matrices $W_f, W_i, W_C$ and $W_o$ are combined into a single weight matrix $W$, therefore the size of the combined matrix $W$ is $(H+I)\\times 4H$ and the size of $b$ is $H$. This is only true for a single time-step; for multiple time-steps we have I=H, thefore the size of the matrix $W$ is in general $2H\\times 4H$.\n",
    "\n",
    "Taking into consideration that a single lstm layer has three outputs at any given time ($h_t$ moving forward and $h_t$, $C_t$ delayed and feed to itself at a later time), let's now see the implementation in Julia: "
   ]
  },
  {
   "cell_type": "code",
   "execution_count": 1,
   "metadata": {},
   "outputs": [
    {
     "data": {
      "text/plain": [
       "lstm (generic function with 1 method)"
      ]
     },
     "execution_count": 1,
     "metadata": {},
     "output_type": "execute_result"
    }
   ],
   "source": [
    "function lstm(param, stateₜ₋, xₜ)\n",
    "    \n",
    "    weight, bias = param\n",
    "    hₜ₋, Cₜ₋      = stateₜ₋\n",
    "    input        = hcat(hₜ₋, xₜ)\n",
    "    \n",
    "    H            = size(hₜ₋, 2)\n",
    "    pre_gates    = input * weight .+ bias\n",
    "    \n",
    "\n",
    "    fₜ      = sigm.(pre_gates[:, 1:H])       # (1) forget gate\n",
    "    iₜ      = sigm.(pre_gates[:, 1 + H:2H])  # (2) input gate\n",
    "    oₜ      = sigm.(pre_gates[:, 1 + 2H:3H]) # (5) output gate\n",
    "    changeₜ = tanh.(pre_gates[:, 1 + 3H:4H]) # (3) cell candidate\n",
    "    \n",
    "    Cₜ = fₜ .* Cₜ₋ + iₜ .* changeₜ             # (4) new cell \n",
    "    hₜ = oₜ .* tanh.(Cₜ)                      # (6) new output\n",
    "    \n",
    "    return (hₜ, Cₜ)\n",
    "\n",
    "end"
   ]
  },
  {
   "cell_type": "code",
   "execution_count": null,
   "metadata": {
    "collapsed": true
   },
   "outputs": [],
   "source": []
  },
  {
   "cell_type": "code",
   "execution_count": null,
   "metadata": {
    "collapsed": true
   },
   "outputs": [],
   "source": []
  },
  {
   "cell_type": "code",
   "execution_count": null,
   "metadata": {
    "collapsed": true
   },
   "outputs": [],
   "source": []
  },
  {
   "cell_type": "code",
   "execution_count": null,
   "metadata": {
    "collapsed": true
   },
   "outputs": [],
   "source": []
  },
  {
   "cell_type": "markdown",
   "metadata": {
    "collapsed": true
   },
   "source": [
    "The ouput (readout, or prediction layer) is given by:\n",
    "\n",
    "\\begin{equation}\n",
    "y = ph \n",
    "\\end{equation}\n",
    "\n",
    "where $P$ denotes the weights of the prediction matrix. Let us denote the size of the output vector $y$ as $O$ such that $p$ has size $H\\times O$.  "
   ]
  },
  {
   "cell_type": "code",
   "execution_count": null,
   "metadata": {
    "collapsed": true
   },
   "outputs": [],
   "source": []
  },
  {
   "cell_type": "code",
   "execution_count": null,
   "metadata": {
    "collapsed": true
   },
   "outputs": [],
   "source": []
  },
  {
   "cell_type": "code",
   "execution_count": null,
   "metadata": {
    "collapsed": true
   },
   "outputs": [],
   "source": []
  }
 ],
 "metadata": {
  "kernelspec": {
   "display_name": "Julia 0.6.0-pre.alpha",
   "language": "julia",
   "name": "julia-0.6"
  },
  "language_info": {
   "file_extension": ".jl",
   "mimetype": "application/julia",
   "name": "julia",
   "version": "0.6.0"
  }
 },
 "nbformat": 4,
 "nbformat_minor": 2
}
