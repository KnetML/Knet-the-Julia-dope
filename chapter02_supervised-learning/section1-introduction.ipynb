{
 "cells": [
  {
   "cell_type": "code",
   "execution_count": 1,
   "metadata": {},
   "outputs": [
    {
     "data": {
      "text/plain": [
       "Plots.GRBackend()"
      ]
     },
     "execution_count": 1,
     "metadata": {},
     "output_type": "execute_result"
    }
   ],
   "source": [
    "for p in (\"Knet\", \"Plots\", \"Plotly.jl\", \"DataFrames\")\n",
    "    Pkg.installed(p) == nothing && Pkg.add(p)\n",
    "end\n",
    "\n",
    "using Knet, Plots, DataFrames\n",
    "gr()"
   ]
  },
  {
   "cell_type": "markdown",
   "metadata": {},
   "source": [
    "### Distributions\n",
    "\n",
    "A [Bernoulli distribution](https://en.wikipedia.org/wiki/Bernoulli_distribution) is the probability distribution of a random variable which takes the value of 1 with probability $p$ and the value of 0 with probability $1-p$, i.e. the probability distribution of any single experiment that asks a yes–no question (e.g. a biased coin toss).The Bernoulli distribution is a special case of the [binomial distribution](https://en.wikipedia.org/wiki/Binomial_distribution) where a single experiment/trial is conducted. The [categorical distribution](https://en.wikipedia.org/wiki/Categorical_distribution#Bayesian_inference_using_conjugate_prior) is a discrete probability distribution whose sample space is the set of k\n",
    "individually identified items, each with a probability $p_j$. It is the generalization of the Bernoulli distribution for a categorical\n",
    "random variable. In one formulation of the distribution, the sample space is taken to be a finite sequence of integers. The exact integers used as labels are unimportant; they might be $\\{0,1,\\dots,k-1\\}$ or $\\{1,\\dots,k\\}$ or any other arbitrary set of values. The categorical distribution is a special case of the [multinomail distribution](https://en.wikipedia.org/wiki/Multinomial_distribution) where a single experiment/trial is conducted."
   ]
  },
  {
   "cell_type": "markdown",
   "metadata": {},
   "source": [
    "### PMFs\n",
    "\n",
    "Recall that a [probability mass function](https://en.wikipedia.org/wiki/Probability_mass_function) (pmf) is a function that gives the probability that a discrete random variable is exactly equal to some value. The probability mass function is often the primary means of defining a discrete probability distribution, and such functions exist for either scalar or multivariate random variables whose domain is discrete. Formally\n",
    "\n",
    "$$ f_X(x)=\\mathbb{P}(X=x) $$\n",
    "\n",
    "As an example, suppose that the random variable $X$ is the outcome of a single toss of a biased coin where $x\\in\\{0,1\\}$. The pmf in this case is given by\n",
    "\n",
    "$$ f_X(x) = \\begin{cases} p & \\text{ if } x=0\\\\ 1-p & \\text{ if } x=1\\end{cases}$$\n",
    "\n",
    "This is an example of a Bernoulli distribution pmf. \n",
    "\n",
    "Using the [inversion brake](https://en.wikipedia.org/wiki/Main_Page), defined as $[P] = 1$ if $P$ is true (and 0 otherwise), we can conveniently define the pmf for the categorical distribution as well\n",
    "\n",
    "$$f_X(x) = \\prod_{i}^K p_j^{[x=j]}$$"
   ]
  },
  {
   "cell_type": "markdown",
   "metadata": {},
   "source": [
    "### Maximum Likelikhood Estimation (MLE)\n",
    "\n",
    "Suppose there we sample $n$ independent and identically distributed observations $x_1, x_2,\\dots, x_n$, coming from a distribution with an unknown probability density function $f_{\\hat{\\theta}}(x\\in X)$. It is however surmised that the function $f$ belongs to a certain family of distributions $\\{ f(x| \\theta), \\theta ∈ \\Theta \\}$( where  $\\theta$ is a vector of parameters for this family), called the parametric model, so that $f_{\\hat{\\theta}} = f(·| \\hat{\\theta})$. The value $\\hat{\\theta}$ is unknown and is referred to as the true value of the parameter vector. It is desirable to find an estimator $\\hat{\\theta}'$ which would be as close to the true value $\\hat{\\theta}$ as possible. Either or both the observed variables $x_i$ and the parameters $\\theta$ can be vectors.\n",
    "\n",
    "To use the method of maximum likelihood, one first specifies the [joint probability distribution](https://en.wikipedia.org/wiki/Joint_probability_distribution) (which basically defines a pmf associated to the set as a whole for all observations). For an independent and identically distributed sample, this joint density function is\n",
    "\n",
    "\n",
    "$$f(x|\\theta)= \\prod_{i=1}^n f(x_i|\\theta)$$\n",
    "\n",
    "Now we look at this function from a different perspective by considering the observed values $x_1, x_2,\\dots, x_n$ to be fixed \"parameters\" of this function, whereas $\\theta$ will be the function's variable and allowed to vary freely; this same function will be called the likelihood:\n",
    "\n",
    "$$L(\\theta|x)= \\prod_{i=1}^n f(\\theta|x_i)$$\n",
    "\n",
    "In practice, it is often more convenient when working with the natural logarithm of the likelihood function, called the log-likelihood:\n",
    "\n",
    "$$\\log L(\\theta|x)= \\sum_{i=1}^n \\log f(\\theta|x_i)$$"
   ]
  },
  {
   "cell_type": "code",
   "execution_count": null,
   "metadata": {
    "collapsed": true
   },
   "outputs": [],
   "source": []
  },
  {
   "cell_type": "code",
   "execution_count": null,
   "metadata": {
    "collapsed": true
   },
   "outputs": [],
   "source": []
  },
  {
   "cell_type": "markdown",
   "metadata": {
    "collapsed": true
   },
   "source": [
    "## Next\n",
    "[Linear regression](section2-linear-regression.ipynb)"
   ]
  },
  {
   "cell_type": "markdown",
   "metadata": {},
   "source": [
    "For whinges or inquiries, [open an issue on  GitHub.](https://github.com/moralesq/Knet-the-Julia-dope)"
   ]
  },
  {
   "cell_type": "code",
   "execution_count": null,
   "metadata": {
    "collapsed": true
   },
   "outputs": [],
   "source": []
  }
 ],
 "metadata": {
  "kernelspec": {
   "display_name": "Julia 0.6.0",
   "language": "julia",
   "name": "julia-0.6"
  },
  "language_info": {
   "file_extension": ".jl",
   "mimetype": "application/julia",
   "name": "julia",
   "version": "0.6.0"
  }
 },
 "nbformat": 4,
 "nbformat_minor": 2
}
